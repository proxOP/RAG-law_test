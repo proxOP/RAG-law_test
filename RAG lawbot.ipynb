{
 "cells": [
  {
   "cell_type": "code",
   "execution_count": 44,
   "id": "93742e8b",
   "metadata": {},
   "outputs": [],
   "source": [
    "import os\n",
    "from dotenv import load_dotenv\n",
    "\n",
    "# Load environment variables from .env file\n",
    "load_dotenv()\n",
    "\n",
    "# Access the API key\n",
    "GOOGLE_API_KEY = os.getenv(\"GOOGLE_API_KEY\")\n",
    "\n",
    "# Ensure the API key is set in the environment\n",
    "if not GOOGLE_API_KEY:\n",
    "    raise ValueError(\"Google API key is not set. Check your .env file.\")\n",
    "\n",
    "# Now you can use GOOGLE_API_KEY in your application\n"
   ]
  },
  {
   "cell_type": "code",
   "execution_count": 45,
   "id": "4898817c",
   "metadata": {},
   "outputs": [],
   "source": [
    "from llama_index.core import SimpleDirectoryReader\n",
    "\n",
    "# List of PDF file paths\n",
    "pdf_files = [\"./test.pdf\"]\n",
    "\n",
    "# Load the PDF files using SimpleDirectoryReader\n",
    "documents = SimpleDirectoryReader(input_files=pdf_files).load_data()"
   ]
  },
  {
   "cell_type": "code",
   "execution_count": 46,
   "id": "fbd74e76",
   "metadata": {
    "scrolled": true
   },
   "outputs": [
    {
     "name": "stdout",
     "output_type": "stream",
     "text": [
      "<class 'list'> \n",
      "\n",
      "6 \n",
      "\n",
      "<class 'llama_index.core.schema.Document'>\n",
      "Doc ID: 72169ac2-dc1a-44a5-bd44-5d603376b736\n",
      "Text: [{\"t\": \"       [Section 25A]      [Complete Act]  \", \"s\":\n",
      "\"Central Government Act\", \"id\": 292012, \"d\": \"\",  \"c\": [], \"cl\": 0,\n",
      "\"b\": \"\"}, {\"t\": \"Sanjay Dhanuka vs Collector Of Customs on 11 May,\n",
      "1993\", \"s\": \"Calcutta  High Court\", \"id\": 292013, \"d\": \"JUDGMENT \\n\n",
      "\\n\\nRuma Pal, J. \\n1. The subject matter of  controversy in this writ\n",
      "application is t...\n"
     ]
    }
   ],
   "source": [
    "print(type(documents), \"\\n\")\n",
    "print(len(documents), \"\\n\")\n",
    "print(type(documents[0]))\n",
    "print(documents[0])"
   ]
  },
  {
   "cell_type": "code",
   "execution_count": 47,
   "id": "e2329558",
   "metadata": {},
   "outputs": [],
   "source": [
    "from llama_index.core import Document\n",
    "\n",
    "document = Document(text=\"\\n\\n\".join([doc.text for doc in documents]))"
   ]
  },
  {
   "cell_type": "code",
   "execution_count": 48,
   "id": "0e1e164f",
   "metadata": {},
   "outputs": [],
   "source": [
    "from llama_index.core import VectorStoreIndex\n",
    "from llama_index.core import Settings\n",
    "from llama_index.embeddings.huggingface import HuggingFaceEmbedding\n",
    "from llama_index.llms.gemini import Gemini\n",
    "\n",
    "\n",
    "llm = Gemini(model=\"models/gemini-pro\")\n",
    "embed_model = HuggingFaceEmbedding(model_name=\"BAAI/bge-small-en-v1.5\")\n",
    "\n",
    "\n",
    "Settings.llm = llm\n",
    "Settings.embed_model = embed_model\n",
    "\n",
    "index = VectorStoreIndex.from_documents(\n",
    "    documents\n",
    ")"
   ]
  },
  {
   "cell_type": "code",
   "execution_count": 49,
   "id": "fd2920bc",
   "metadata": {},
   "outputs": [],
   "source": [
    "query_engine = index.as_query_engine()"
   ]
  },
  {
   "cell_type": "code",
   "execution_count": 50,
   "id": "86584013",
   "metadata": {},
   "outputs": [
    {
     "name": "stdout",
     "output_type": "stream",
     "text": [
      "The LDPE Granules in question arrived on 28 November 1990 from Hongkong by SS Vishwa Prafulla.\n"
     ]
    }
   ],
   "source": [
    "response = query_engine.query(\n",
    "    \"When did the LDPE Granules in question arrive, and from where?\"\n",
    ")\n",
    "print(str(response))"
   ]
  },
  {
   "cell_type": "code",
   "execution_count": null,
   "id": "67de3661",
   "metadata": {},
   "outputs": [],
   "source": []
  }
 ],
 "metadata": {
  "kernelspec": {
   "display_name": "Python 3 (ipykernel)",
   "language": "python",
   "name": "python3"
  },
  "language_info": {
   "codemirror_mode": {
    "name": "ipython",
    "version": 3
   },
   "file_extension": ".py",
   "mimetype": "text/x-python",
   "name": "python",
   "nbconvert_exporter": "python",
   "pygments_lexer": "ipython3",
   "version": "3.11.3"
  }
 },
 "nbformat": 4,
 "nbformat_minor": 5
}
